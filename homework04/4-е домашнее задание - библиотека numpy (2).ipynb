{
  "metadata": {
    "kernelspec": {
      "name": "python",
      "display_name": "Python (Pyodide)",
      "language": "python"
    },
    "language_info": {
      "codemirror_mode": {
        "name": "python",
        "version": 3
      },
      "file_extension": ".py",
      "mimetype": "text/x-python",
      "name": "python",
      "nbconvert_exporter": "python",
      "pygments_lexer": "ipython3",
      "version": "3.8"
    }
  },
  "nbformat_minor": 4,
  "nbformat": 4,
  "cells": [
    {
      "cell_type": "markdown",
      "source": "## 4-е домашнее задание - Библиотека numpy Урзов Александр Николаевич\n\n\nПодпишите этот блокнот: укажите ФИО и номер группы. Выполненное задание загрузите в свой репозиторий «<b>Spring2023Python</b>» в github в папку \"<b>homework04</b>\".  \nУрзов Александр Николаевич НПМбд-02-20\nПеред выполнением этого домашнего задания полезно прочитать про возможности и основные методы библиотеки numpy:  \nhttp://acm.mipt.ru/twiki/bin/view/Cintro/PythonNumpy  \n",
      "metadata": {
        "tags": []
      }
    },
    {
      "cell_type": "code",
      "source": "import numpy as np\n",
      "metadata": {
        "trusted": true
      },
      "execution_count": 2,
      "outputs": []
    },
    {
      "cell_type": "markdown",
      "source": "1.\tСоздайте равномерное разбиение интервала от -1.3 до 2.5 на 64 отрезка.",
      "metadata": {}
    },
    {
      "cell_type": "code",
      "source": "arr2 = np.linspace(-1.3, 2.5, 65)\narr2",
      "metadata": {
        "trusted": true
      },
      "execution_count": 3,
      "outputs": [
        {
          "execution_count": 3,
          "output_type": "execute_result",
          "data": {
            "text/plain": "array([-1.3     , -1.240625, -1.18125 , -1.121875, -1.0625  , -1.003125,\n       -0.94375 , -0.884375, -0.825   , -0.765625, -0.70625 , -0.646875,\n       -0.5875  , -0.528125, -0.46875 , -0.409375, -0.35    , -0.290625,\n       -0.23125 , -0.171875, -0.1125  , -0.053125,  0.00625 ,  0.065625,\n        0.125   ,  0.184375,  0.24375 ,  0.303125,  0.3625  ,  0.421875,\n        0.48125 ,  0.540625,  0.6     ,  0.659375,  0.71875 ,  0.778125,\n        0.8375  ,  0.896875,  0.95625 ,  1.015625,  1.075   ,  1.134375,\n        1.19375 ,  1.253125,  1.3125  ,  1.371875,  1.43125 ,  1.490625,\n        1.55    ,  1.609375,  1.66875 ,  1.728125,  1.7875  ,  1.846875,\n        1.90625 ,  1.965625,  2.025   ,  2.084375,  2.14375 ,  2.203125,\n        2.2625  ,  2.321875,  2.38125 ,  2.440625,  2.5     ])"
          },
          "metadata": {}
        }
      ]
    },
    {
      "cell_type": "markdown",
      "source": "2.\tСгенерируйте numpy массив длины $3n$, заполненный циклически числами 1, 2, 3, 1, 2, 3, 1....",
      "metadata": {}
    },
    {
      "cell_type": "code",
      "source": "n = 10\nnp.array([1, 2, 3] * n)",
      "metadata": {
        "trusted": true
      },
      "execution_count": 4,
      "outputs": [
        {
          "execution_count": 4,
          "output_type": "execute_result",
          "data": {
            "text/plain": "array([1, 2, 3, 1, 2, 3, 1, 2, 3, 1, 2, 3, 1, 2, 3, 1, 2, 3, 1, 2, 3, 1,\n       2, 3, 1, 2, 3, 1, 2, 3])"
          },
          "metadata": {}
        }
      ]
    },
    {
      "cell_type": "markdown",
      "source": "3.\tСоздайте массив первых 10 нечетных целых чисел.",
      "metadata": {}
    },
    {
      "cell_type": "code",
      "source": "number_even = 10\narr = np.arange(1, 2 * number_even, 2)\narr",
      "metadata": {
        "trusted": true
      },
      "execution_count": 5,
      "outputs": [
        {
          "execution_count": 5,
          "output_type": "execute_result",
          "data": {
            "text/plain": "array([ 1,  3,  5,  7,  9, 11, 13, 15, 17, 19])"
          },
          "metadata": {}
        }
      ]
    },
    {
      "cell_type": "markdown",
      "source": "4.  Создайте массив нулей размера 10 x 10, а затем создайте в нём \"рамку\" из единиц по краям.",
      "metadata": {}
    },
    {
      "cell_type": "code",
      "source": "matrix = np.zeros((10,10))\nmatrix[0, :] = 1\nmatrix[9, :] = 1\nmatrix[:, 0] = 1\nmatrix[:, 9] = 1\nmatrix",
      "metadata": {
        "trusted": true
      },
      "execution_count": 6,
      "outputs": [
        {
          "execution_count": 6,
          "output_type": "execute_result",
          "data": {
            "text/plain": "array([[1., 1., 1., 1., 1., 1., 1., 1., 1., 1.],\n       [1., 0., 0., 0., 0., 0., 0., 0., 0., 1.],\n       [1., 0., 0., 0., 0., 0., 0., 0., 0., 1.],\n       [1., 0., 0., 0., 0., 0., 0., 0., 0., 1.],\n       [1., 0., 0., 0., 0., 0., 0., 0., 0., 1.],\n       [1., 0., 0., 0., 0., 0., 0., 0., 0., 1.],\n       [1., 0., 0., 0., 0., 0., 0., 0., 0., 1.],\n       [1., 0., 0., 0., 0., 0., 0., 0., 0., 1.],\n       [1., 0., 0., 0., 0., 0., 0., 0., 0., 1.],\n       [1., 1., 1., 1., 1., 1., 1., 1., 1., 1.]])"
          },
          "metadata": {}
        }
      ]
    },
    {
      "cell_type": "markdown",
      "source": "5.  Создайте массив 8 x 8 с шахматной доской из нулей и единиц.",
      "metadata": {}
    },
    {
      "cell_type": "code",
      "source": "matrix = np.zeros((8,8))\nmatrix[::2,::2] = 1\nmatrix[1::2,1::2] = 1\nmatrix",
      "metadata": {
        "trusted": true
      },
      "execution_count": 7,
      "outputs": [
        {
          "execution_count": 7,
          "output_type": "execute_result",
          "data": {
            "text/plain": "array([[1., 0., 1., 0., 1., 0., 1., 0.],\n       [0., 1., 0., 1., 0., 1., 0., 1.],\n       [1., 0., 1., 0., 1., 0., 1., 0.],\n       [0., 1., 0., 1., 0., 1., 0., 1.],\n       [1., 0., 1., 0., 1., 0., 1., 0.],\n       [0., 1., 0., 1., 0., 1., 0., 1.],\n       [1., 0., 1., 0., 1., 0., 1., 0.],\n       [0., 1., 0., 1., 0., 1., 0., 1.]])"
          },
          "metadata": {}
        }
      ]
    },
    {
      "cell_type": "markdown",
      "source": "6.  Создайте функцию, которая создает $n×n$ матрицу с $(i,j)$-элементом, равным $i+j$.",
      "metadata": {}
    },
    {
      "cell_type": "code",
      "source": "n = 10\nmatrix = np.zeros((n, n))\nfor i in range(n):\n    for j in range(n):\n        matrix[i][j] = i + j\nmatrix",
      "metadata": {
        "trusted": true
      },
      "execution_count": 8,
      "outputs": [
        {
          "execution_count": 8,
          "output_type": "execute_result",
          "data": {
            "text/plain": "array([[ 0.,  1.,  2.,  3.,  4.,  5.,  6.,  7.,  8.,  9.],\n       [ 1.,  2.,  3.,  4.,  5.,  6.,  7.,  8.,  9., 10.],\n       [ 2.,  3.,  4.,  5.,  6.,  7.,  8.,  9., 10., 11.],\n       [ 3.,  4.,  5.,  6.,  7.,  8.,  9., 10., 11., 12.],\n       [ 4.,  5.,  6.,  7.,  8.,  9., 10., 11., 12., 13.],\n       [ 5.,  6.,  7.,  8.,  9., 10., 11., 12., 13., 14.],\n       [ 6.,  7.,  8.,  9., 10., 11., 12., 13., 14., 15.],\n       [ 7.,  8.,  9., 10., 11., 12., 13., 14., 15., 16.],\n       [ 8.,  9., 10., 11., 12., 13., 14., 15., 16., 17.],\n       [ 9., 10., 11., 12., 13., 14., 15., 16., 17., 18.]])"
          },
          "metadata": {}
        }
      ]
    },
    {
      "cell_type": "markdown",
      "source": "7. Примените функцию dot для перемножения вектор на вектор, матрицу на вектор и матрицу на матрицу.",
      "metadata": {}
    },
    {
      "cell_type": "code",
      "source": "vect1 = np.array([[1, 2, 3]])\nvect2 = np.array([[1], [2], [3]])\nmatrix = np.array([[1, 2, 3], [2, 1, 4], [3, 9, 5]])\nmatrix2 = np.array([[1, 2], [1, 2], [4, 5]])\nprint(np.dot(vect1, vect2))\nprint(np.dot(matrix, vect2))\nprint(np.dot(matrix, matrix2))",
      "metadata": {
        "trusted": true
      },
      "execution_count": 9,
      "outputs": [
        {
          "name": "stdout",
          "text": "[[14]]\n[[14]\n [16]\n [36]]\n[[15 21]\n [19 26]\n [32 49]]\n",
          "output_type": "stream"
        }
      ]
    },
    {
      "cell_type": "markdown",
      "source": "8. Вычислите cos(x) и sin(x) на интервале [0,1] с шагом $0.05$, а затем объедините оба массива чисел как строки в один массив.",
      "metadata": {}
    },
    {
      "cell_type": "code",
      "source": "cosinus = np.cos(np.linspace(0, 1, int(1/0.05)))\nsinus = np.sin(np.linspace(0, 1, int(1/0.05)))\n\nlist(cosinus)+list(sinus)",
      "metadata": {
        "trusted": true
      },
      "execution_count": 10,
      "outputs": [
        {
          "execution_count": 10,
          "output_type": "execute_result",
          "data": {
            "text/plain": "[1.0,\n 0.9986152781425827,\n 0.9944649474795756,\n 0.9875605021181478,\n 0.9779210635311101,\n 0.9655733276010717,\n 0.9505514906876966,\n 0.9328971549228098,\n 0.912659212995635,\n 0.8898937127472434,\n 0.8646637019492132,\n 0.8370390536963741,\n 0.8070962728972044,\n 0.7749182843977933,\n 0.7405942033261461,\n 0.7042190882928544,\n 0.6658936781316236,\n 0.625724112908743,\n 0.5838216399741468,\n 0.5403023058681398,\n 0.0,\n 0.05260728333807213,\n 0.10506887376594912,\n 0.15723948186175024,\n 0.20897462406278547,\n 0.2601310228046501,\n 0.3105670033203749,\n 0.3601428860007191,\n 0.40872137322898616,\n 0.4561679296190457,\n 0.5023511546035127,\n 0.547143146340223,\n 0.5904198559291864,\n 0.6320614309590333,\n 0.6719525474315213,\n 0.7099827291448582,\n 0.7460466536513234,\n 0.7800444439418607,\n 0.8118819450498316,\n 0.8414709848078965]"
          },
          "metadata": {}
        }
      ]
    },
    {
      "cell_type": "markdown",
      "source": "9. Создайте матрицу $A$ размера $3×5$ из случайных чисел с равномерным распределением на отрезке $[-1,3]$ (используйте np.random.rand)",
      "metadata": {}
    },
    {
      "cell_type": "code",
      "source": "matrix = np.random.rand(3,5)*4-1\nmatrix",
      "metadata": {
        "trusted": true
      },
      "execution_count": 11,
      "outputs": [
        {
          "execution_count": 11,
          "output_type": "execute_result",
          "data": {
            "text/plain": "array([[ 1.76355436,  0.79141911,  1.56914818,  0.5623592 ,  1.45526678],\n       [-0.8841544 ,  1.63494645,  2.99563253,  2.68154944,  0.52410103],\n       [ 0.98291864, -0.03966304,  0.49432942, -0.38848615,  0.05437325]])"
          },
          "metadata": {}
        }
      ]
    },
    {
      "cell_type": "markdown",
      "source": "10. Найдите сумму всех элементов, сумму внутри строк, сумму внутри столбцов, а также среднее значение, дисперсию и стандартное отклонение чисел для каждой строки матрицы $A$. (Подобно тому, как sorted имеет необязательный аргумент key=, многие функции Numpy имеют необязательный аргумент axis=)\n",
      "metadata": {}
    },
    {
      "cell_type": "code",
      "source": "print(matrix.sum())\nprint(matrix.sum(0)) # сумма по столбцам\nprint(matrix.sum(1)) # сумма по строкам\nprint(matrix.mean(1)) # среднее значение по строкам\nprint(matrix.var(1)) # дисперсия по строкам\nprint(matrix.std(1)) # ст. откл. по строкам",
      "metadata": {
        "trusted": true
      },
      "execution_count": 12,
      "outputs": [
        {
          "name": "stdout",
          "text": "14.197294803449958\n[1.8623186  2.38670253 5.05911013 2.85542249 2.03374106]\n[6.14174762 6.95207506 1.10347213]\n[1.22834952 1.39041501 0.22069443]\n[0.21770614 2.04554259 0.22448231]\n[0.4665899  1.43022466 0.47379565]\n",
          "output_type": "stream"
        }
      ]
    },
    {
      "cell_type": "markdown",
      "source": "11.  Отнимите от каждого элемента матрицы $A$ среднее по строке и поделите на стандартное отклонение строки.",
      "metadata": {}
    },
    {
      "cell_type": "code",
      "source": "for i in range(len(matrix)):\n    matrix[i,:] -= matrix.mean(1)[i]\n    matrix[i,:] /= matrix.std(1)[i]\nmatrix",
      "metadata": {
        "trusted": true
      },
      "execution_count": 13,
      "outputs": [
        {
          "execution_count": 13,
          "output_type": "execute_result",
          "data": {
            "text/plain": "array([[ 1.14705619, -0.9364335 ,  0.73040297, -1.42735692,  0.48633126],\n       [-1.59035812,  0.17097415,  1.1223534 ,  0.90274938, -0.60571881],\n       [ 1.60876154, -0.54951425,  0.57753801, -1.2857454 , -0.3510399 ]])"
          },
          "metadata": {}
        }
      ]
    },
    {
      "cell_type": "markdown",
      "source": "12. Отсортируйте матрицу $A$ по 3-ому столбцу, т.е. поменяйте местами строки матрицы так, чтобы 3-й столбец оказался отсортированным. Используйте для этого slicing + argsort + indexing.",
      "metadata": {}
    },
    {
      "cell_type": "code",
      "source": "matrix[matrix[:, 2].argsort()]",
      "metadata": {
        "trusted": true
      },
      "execution_count": 14,
      "outputs": [
        {
          "execution_count": 14,
          "output_type": "execute_result",
          "data": {
            "text/plain": "array([[ 1.60876154, -0.54951425,  0.57753801, -1.2857454 , -0.3510399 ],\n       [ 1.14705619, -0.9364335 ,  0.73040297, -1.42735692,  0.48633126],\n       [-1.59035812,  0.17097415,  1.1223534 ,  0.90274938, -0.60571881]])"
          },
          "metadata": {}
        }
      ]
    },
    {
      "cell_type": "markdown",
      "source": "13. Посчитайте две матрицы: $B = A^TA$ и $C = AA^T$. Что вы можете о них сказать? Какого они размера? В чём их сходство и отличие?",
      "metadata": {}
    },
    {
      "cell_type": "code",
      "source": "b = np.dot(np.transpose(matrix), matrix)\nc = np.dot(matrix, np.transpose(matrix))\nprint(b)\nprint(c)",
      "metadata": {
        "trusted": true
      },
      "execution_count": 15,
      "outputs": [
        {
          "name": "stdout",
          "text": "[[ 6.43309054 -2.23008937 -0.01800966 -5.14141115  0.95641964]\n [-2.23008937  1.20810578 -0.80944577  2.19750708 -0.36607772]\n [-0.01800966 -0.80944577  2.12671582 -0.77190874 -0.52735165]\n [-5.14141115  2.19750708 -0.77190874  4.50544547 -0.78963265]\n [ 0.95641964 -0.36607772 -0.52735165 -0.78963265  0.72664238]]\n[[ 5.         -2.74769136  4.44625484]\n [-2.74769136  5.         -2.95233235]\n [ 4.44625484 -2.95233235  5.        ]]\n",
          "output_type": "stream"
        }
      ]
    },
    {
      "cell_type": "markdown",
      "source": "14. Найдите сумму диагональных элементов матриц $B$ и $C$.",
      "metadata": {}
    },
    {
      "cell_type": "code",
      "source": "np.sum(np.diagonal(b)) + np.sum(np.diagonal(c))\n",
      "metadata": {
        "trusted": true
      },
      "execution_count": 16,
      "outputs": [
        {
          "execution_count": 16,
          "output_type": "execute_result",
          "data": {
            "text/plain": "29.999999999999996"
          },
          "metadata": {}
        }
      ]
    },
    {
      "cell_type": "markdown",
      "source": "15.\tПосчитайте детерминант и ранг матриц $A$, $B$ и $C$, посмотрите на спектр (набор собственных значений) матриц $B$ и $C$, какие выводы вы можете сделать?  \n(подсказка: используйте готовые функции из библиотеки np.linalg). \n",
      "metadata": {}
    },
    {
      "cell_type": "code",
      "source": "#print(np.linalg.det(matrix)) A не квадратная, ошибка.\nprint(np.linalg.det(b))\nprint(np.linalg.det(c))\nprint(np.linalg.matrix_rank(matrix))\nprint(np.linalg.matrix_rank(b))\nprint(np.linalg.matrix_rank(c))\nw_b, v_b = np.linalg.eig(b)\nw_c, v_b = np.linalg.eig(c)\nprint(w_b)\nprint(w_c)",
      "metadata": {
        "trusted": true
      },
      "execution_count": 17,
      "outputs": [
        {
          "name": "stdout",
          "text": "-1.16167068694275e-31\n16.960629570151596\n3\n3\n3\n[ 1.18265883e+01  2.62763109e+00  5.45780605e-01 -7.67306024e-18\n -1.82484625e-16]\n[11.8265883   0.5457806   2.62763109]\n",
          "output_type": "stream"
        }
      ]
    },
    {
      "cell_type": "code",
      "source": "",
      "metadata": {},
      "execution_count": null,
      "outputs": []
    },
    {
      "cell_type": "markdown",
      "source": "16. Численно посчитать определённый интеграл  3-мя методами:  \na)\tПрямоугольников $\\int\\limits_a^b {f(x)dx \\approx \\Delta x\\sum\\limits_{k = 0}^N {f({x_k})} }$  \nb)\tТрапеций $\\int\\limits_a^b {f(x)dx \\approx \\frac{{\\Delta x}}{2}\\left( {f({x_0}) + 2\\sum\\limits_{k = 1}^{N - 1} {f({x_k})}  + f({x_N})} \\right)}$  \nc)\tПо правилу Симпсона  $\\int\\limits_a^b {f(x)dx \\approx \\frac{{\\Delta x}}{3}\\left( {f({x_0}) + 2\\sum\\limits_{k = 1}^{N/2 - 1} {f({x_{2k}})}  + 4\\sum\\limits_{k = 1}^{N/2} {f({x_{2k - 1}})}  + f({x_N})} \\right)}$  \n\n\nВ реализации этих методов цикл for для суммирования использовать нельзя.  \nНужно посчитать значение интеграла с некоторым шагом интегрирования (например начать с 0.1), потом уменьшить его в десять раз и ещё раз посчитать и так до тех пор пока отличие в ответах будет в 5-м знаке после запятой, т.е. чтобы ошибка была меньше 1e-5. Получить ответы для 3-х разных методов и сделать соответствующие выводы.  \n\nДалее необходимо сравнить полученные оценки с аналитическим решением (т.е. формульным, которое вы должны сами посчитать на листочке и вбить формулу-ответ).   \n\nВ качестве интеграла взять два из следующих примеров:  \n- один с номером, сгенерированным случайным образом с помощью функции np.random.randint(9), в качестве seed для генератора случайных чисел взять номер своего студенческого билета. \n- второй номер - под номером 9, несобственный интерграл. Подумайте, как сделать подбор шага интегрирования адаптивным.\n\n<table width=\"80%\"\n       align=\"center\">\n    <tr>\n        <td> 0) $\\int\\limits_3^4 {\\frac{{{x^2} + 3}}{{x - 2}}dx}$ </td>\n        <td> 1) $\\int\\limits_{ - 2}^{ - 1} {\\frac{{x + 1}}{{{x^3} - {x^2}}}dx}$ </td>\n        <td> 2) $\\int\\limits_1^2 {\\frac{{{e^{1/{x^2}}}}}{{{x^3}}}dx}$ </td>\n        <td> 3) $\\int\\limits_1^e {\\frac{{\\cos (\\ln x)}}{x}dx}$ </td>\n        <td> 4) $\\int\\limits_1^e {\\frac{{dx}}{{x(1 + {{\\ln }^2}x)}}}$ </td>\n    </tr>                \n    <tr>\n        <td> 5) $\\int\\limits_0^{\\pi /2} {{{\\cos }^3}\\alpha \\;d\\alpha }$ </td>\n        <td> 6) $\\int\\limits_0^{1/3} {c{h^2}3x\\;dx}$ </td>\n        <td> 7) $\\int\\limits_2^3 {\\frac{{dy}}{{{y^2} - 2y - 8}}dy}$ </td>\n        <td> 8) $\\int\\limits_0^2 {\\frac{{2x - 1}}{{2x + 1}}dx}$ </td>\n        <td> 9) $\\int\\limits_{3/4}^2 {\\frac{{dx}}{{\\sqrt {2 + 3x - 2{x^2}} }}}$ </td>\n        </tr>\n</table>",
      "metadata": {}
    },
    {
      "cell_type": "code",
      "source": "np.random.seed(1032201722)\nnp.random.randint(9)",
      "metadata": {
        "trusted": true
      },
      "execution_count": 18,
      "outputs": [
        {
          "execution_count": 18,
          "output_type": "execute_result",
          "data": {
            "text/plain": "8"
          },
          "metadata": {}
        }
      ]
    },
    {
      "cell_type": "code",
      "source": "print('Аналитическое решение интеграла 8: ', 2-np.log(5))\nprint('Аналитическое решение интеграла 9: ', np.pi/(2**(3/2)))",
      "metadata": {
        "trusted": true
      },
      "execution_count": 19,
      "outputs": [
        {
          "name": "stdout",
          "text": "Аналитическое решение интеграла 8:  0.3905620875658997\nАналитическое решение интеграла 9:  1.1107207345395915\n",
          "output_type": "stream"
        }
      ]
    },
    {
      "cell_type": "code",
      "source": "def func1(x):\n    return (2*x-1)/(2*x+1)\n\ndef func2(x):\n    return 1/np.sqrt(2+3*x-2*x**2, where = x!=2)\n\ndef solution(func,a, b, dx, method):\n    n = int((b-a) / dx)\n    xx = np.linspace(a, b, n)\n    if method == 'rectangular':\n        return dx*np.sum(func(xx))\n    elif method == 'trapezoid':\n        return dx/2*(func(xx[0]) + 2*np.sum(func(xx[1:-1])) + func(xx[-1]))\n    elif method == 'simpson':\n        return dx/3*(func(xx[0]) + 2*np.sum(func(xx[2:-1:2])) + 4*np.sum(func(xx[1:-2:2])) + func(xx[-1]))\n    else:\n        return 'Неверный метод'\n    \nprint('Для интеграла 8:', solution(func1, -2, -1, 0.0001, 'rectangular'), 'Для интеграла 9:', solution(func2, 3/4, 2, 0.0001, 'rectangular') )\nprint('Для интеграла 8:', solution(func1, -2, -1, 0.0001, 'trapezoid'), 'Для интеграла 9:', solution(func2, 3/4, 2, 0.0001, 'trapezoid') )\nprint('Для интеграла 8:', solution(func1, -2, -1, 0.0001, 'simpson'), 'Для интеграла 9:', solution(func2, 3/4, 2, 0.0001, 'simpson') ) ",
      "metadata": {
        "trusted": true
      },
      "execution_count": 22,
      "outputs": [
        {
          "name": "stdout",
          "text": "Для интеграла 8: 2.0986357637358357 Для интеграла 9: 1.1041419998928388\nДля интеграла 8: 2.098402430402502 Для интеграла 9: 1.1041172156215913\nДля интеграла 8: 2.0983024341065764 Для интеграла 9: 1.1032101773676126\n",
          "output_type": "stream"
        }
      ]
    },
    {
      "cell_type": "code",
      "source": "",
      "metadata": {},
      "execution_count": null,
      "outputs": []
    }
  ]
}